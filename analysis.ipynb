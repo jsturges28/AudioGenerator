{
 "cells": [
  {
   "cell_type": "code",
   "execution_count": 45,
   "metadata": {},
   "outputs": [
    {
     "name": "stdout",
     "output_type": "stream",
     "text": [
      "{'min': 0.0, 'max': 262.43002}\n"
     ]
    }
   ],
   "source": [
    "import pickle\n",
    "\n",
    "with open(\"min_max_values.pkl\", \"rb\") as f:\n",
    "    minmax = pickle.load(f)\n",
    "\n",
    "list(minmax.keys())\n",
    "list(minmax.items())\n",
    "\n",
    "print(minmax['./mel_spectrograms\\\\0_george_0.wav.npy'])"
   ]
  },
  {
   "cell_type": "code",
   "execution_count": 29,
   "metadata": {},
   "outputs": [
    {
     "name": "stdout",
     "output_type": "stream",
     "text": [
      "0.0 262.43002\n"
     ]
    }
   ],
   "source": [
    "import numpy as np\n",
    "from preprocessing import MinMaxNormalizer\n",
    "import pickle\n",
    "import os\n",
    "\n",
    "SPECTROGRAM_PATH = \"./mel_spectrograms\\\\0_george_0.wav.npy\"\n",
    "MIN_MAX_PATH = \"./min_max_values.pkl\"\n",
    "\n",
    "with open(MIN_MAX_PATH, \"rb\") as f:\n",
    "    minmax = pickle.load(f)\n",
    "\n",
    "with open(SPECTROGRAM_PATH, 'rb') as f:\n",
    "    mel = np.load(f)\n",
    "\n",
    "mel.shape\n",
    "\n",
    "sampled_min_value = minmax[SPECTROGRAM_PATH]['min']\n",
    "sampled_max_value = minmax[SPECTROGRAM_PATH]['max']\n",
    "\n",
    "normalizer = MinMaxNormalizer(0, 1)\n",
    "\n",
    "print(sampled_min_value, sampled_max_value)\n",
    "\n",
    "C:\\Users\\stur8980\\Documents\\GitHub\\AudioGenerator\\mel_spectrograms\\9_yweweler_40.wav.npy\n",
    "\n",
    "\n",
    "C:\\Users\\stur8980\\Documents\\GitHub\\AudioGenerator\\mel_spectrograms\\0_george_2.wav.npy\n"
   ]
  },
  {
   "cell_type": "code",
   "execution_count": 30,
   "metadata": {},
   "outputs": [],
   "source": [
    "denorm_spec = normalizer.denormalize(mel, sampled_min_value, sampled_max_value)"
   ]
  },
  {
   "cell_type": "code",
   "execution_count": 35,
   "metadata": {},
   "outputs": [],
   "source": [
    "modified_denorm_spec = denorm_spec + np.random.uniform(-5, 5, denorm_spec.shape)"
   ]
  },
  {
   "cell_type": "code",
   "execution_count": 37,
   "metadata": {},
   "outputs": [
    {
     "data": {
      "text/plain": [
       "(128, 64)"
      ]
     },
     "execution_count": 37,
     "metadata": {},
     "output_type": "execute_result"
    }
   ],
   "source": [
    "modified_denorm_spec.shape"
   ]
  },
  {
   "cell_type": "code",
   "execution_count": 20,
   "metadata": {},
   "outputs": [
    {
     "name": "stdout",
     "output_type": "stream",
     "text": [
      "(2, 2, 3)\n",
      "[1 7]\n"
     ]
    }
   ],
   "source": [
    "import numpy as np\n",
    "\n",
    "# Create a 3D array\n",
    "arr = np.array([[[1, 2, 3], [4, 5, 6]], [[7, 8, 9], [10, 11, 12]]])\n",
    "\n",
    "print(arr.shape)  # Output: (2, 2, 3)\n",
    "\n",
    "# Apply np.min\n",
    "min_values = np.min(arr, axis=(2,1))\n",
    "\n",
    "print(min_values)  # Output: [1 7]\n"
   ]
  }
 ],
 "metadata": {
  "kernelspec": {
   "display_name": "Python 3",
   "language": "python",
   "name": "python3"
  },
  "language_info": {
   "codemirror_mode": {
    "name": "ipython",
    "version": 3
   },
   "file_extension": ".py",
   "mimetype": "text/x-python",
   "name": "python",
   "nbconvert_exporter": "python",
   "pygments_lexer": "ipython3",
   "version": "3.10.9"
  },
  "orig_nbformat": 4
 },
 "nbformat": 4,
 "nbformat_minor": 2
}
